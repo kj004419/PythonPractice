{
 "cells": [
  {
   "cell_type": "code",
   "execution_count": 4,
   "metadata": {},
   "outputs": [
    {
     "name": "stdout",
     "output_type": "stream",
     "text": [
      "['LEDTV_LEDTV_UN40EN001', 'LEDTV_UN40EN002', 'LEDTV_UN40EN003', 'LEDTV_UN40EN004']\n",
      "['LEDTV_LEDTV_UN40EN001', 'LEDTV_LEDTV_UN40EN002', 'LEDTV_UN40EN003', 'LEDTV_UN40EN004']\n",
      "['LEDTV_LEDTV_UN40EN001', 'LEDTV_LEDTV_UN40EN002', 'LEDTV_LEDTV_UN40EN003', 'LEDTV_UN40EN004']\n",
      "['LEDTV_LEDTV_UN40EN001', 'LEDTV_LEDTV_UN40EN002', 'LEDTV_LEDTV_UN40EN003', 'LEDTV_LEDTV_UN40EN004']\n"
     ]
    }
   ],
   "source": [
    "preFix = \"LEDTV_\"\n",
    "### range: last index is not included\n",
    "### list(range(0,4))\n",
    "for i in range(0,4):\n",
    "    tvList[i] = preFix + tvList[i]\n",
    "\n",
    "    print(tvList)"
   ]
  },
  {
   "cell_type": "code",
   "execution_count": 6,
   "metadata": {},
   "outputs": [
    {
     "name": "stdout",
     "output_type": "stream",
     "text": [
      "['LEDTV_LEDTV_LEDTV_UN40EN001', 'LEDTV_LEDTV_UN40EN002', 'LEDTV_LEDTV_UN40EN003', 'LEDTV_LEDTV_UN40EN004']\n",
      "['LEDTV_LEDTV_LEDTV_UN40EN001', 'LEDTV_LEDTV_LEDTV_UN40EN002', 'LEDTV_LEDTV_UN40EN003', 'LEDTV_LEDTV_UN40EN004']\n",
      "['LEDTV_LEDTV_LEDTV_UN40EN001', 'LEDTV_LEDTV_LEDTV_UN40EN002', 'LEDTV_LEDTV_LEDTV_UN40EN003', 'LEDTV_LEDTV_UN40EN004']\n",
      "['LEDTV_LEDTV_LEDTV_UN40EN001', 'LEDTV_LEDTV_LEDTV_UN40EN002', 'LEDTV_LEDTV_LEDTV_UN40EN003', 'LEDTV_LEDTV_LEDTV_UN40EN004']\n"
     ]
    }
   ],
   "source": [
    "preFix = \"LEDTV_\"\n",
    "### range: last index is not included\n",
    "### list(range(0,4))\n",
    "i=0\n",
    "listLength = len(tvList)\n",
    "while(i < listLength ):\n",
    "    tvList[i] = preFix + tvList[i]\n",
    "    i = i+1\n",
    "    \n",
    "    print(tvList)"
   ]
  }
 ],
 "metadata": {
  "kernelspec": {
   "display_name": "Python 3",
   "language": "python",
   "name": "python3"
  },
  "language_info": {
   "codemirror_mode": {
    "name": "ipython",
    "version": 3
   },
   "file_extension": ".py",
   "mimetype": "text/x-python",
   "name": "python",
   "nbconvert_exporter": "python",
   "pygments_lexer": "ipython3",
   "version": "3.7.4"
  }
 },
 "nbformat": 4,
 "nbformat_minor": 2
}
