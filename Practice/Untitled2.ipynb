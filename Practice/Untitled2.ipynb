{
 "cells": [
  {
   "cell_type": "code",
   "execution_count": 3,
   "metadata": {},
   "outputs": [
    {
     "name": "stdout",
     "output_type": "stream",
     "text": [
      "['SEC', 120, 130, [201712, 201713]]\n",
      "120\n",
      "[201712, 201713]\n",
      "201712\n",
      "['SEC', 120, 130]\n"
     ]
    }
   ],
   "source": [
    "#리스트 연산\n",
    "stockName = [\"SEC\"]\n",
    "priceList = [120,130]\n",
    "dateList = [201712,201713]\n",
    "\n",
    "secinfo = stockName+priceList+[dateList]\n",
    "print(secinfo)\n",
    "\n",
    "#리스트 인덱싱\n",
    "#secinfo=[\"SEC\",120,130,[201712,201713]]\n",
    "\n",
    "print(secinfo[1])\n",
    "print(secinfo[3])\n",
    "print(secinfo[3][0])\n",
    "print(secinfo[0:3])"
   ]
  },
  {
   "cell_type": "code",
   "execution_count": 8,
   "metadata": {},
   "outputs": [
    {
     "name": "stdout",
     "output_type": "stream",
     "text": [
      "[120, 130, 140, 150]\n",
      "[120, 130, 180, 150]\n",
      "[120, 130, 180]\n",
      "[120]\n"
     ]
    }
   ],
   "source": [
    "#리스트 값 업데이트 하기\n",
    "updateList = [120,130,140,150]\n",
    "print(updateList)\n",
    "updateList[2] = 180\n",
    "print(updateList)\n",
    "\n",
    "#리스트 값 삭제하기\n",
    "\n",
    "del updateList[3]\n",
    "print(updateList)\n",
    "\n",
    "#리스트 값 삭제하기 구간 1<=인덱스<3\n",
    "updateList[1:3] = []\n",
    "print(updateList)"
   ]
  },
  {
   "cell_type": "code",
   "execution_count": 27,
   "metadata": {},
   "outputs": [
    {
     "name": "stdout",
     "output_type": "stream",
     "text": [
      "[120, 100, 130, 140, 150, 11, 12]\n",
      "[11, 12, 100, 120, 130, 140, 150]\n",
      "6\n",
      "7\n"
     ]
    },
    {
     "data": {
      "text/plain": [
       "150"
      ]
     },
     "execution_count": 27,
     "metadata": {},
     "output_type": "execute_result"
    }
   ],
   "source": [
    "functionList = [120,130,140,150]\n",
    "#리스트에 요소 추가하기\n",
    "functionList.extend([11,12])\n",
    "functionList.insert(1,100)\n",
    "print(functionList)\n",
    "#리스트 정렬하기\n",
    "functionList.sort(reverse = False)\n",
    "print(functionList)\n",
    "#값으로 인덱스 가져오기\n",
    "print(functionList.index(150))\n",
    "print(len(functionList))\n",
    "functionList.pop()"
   ]
  },
  {
   "cell_type": "code",
   "execution_count": 36,
   "metadata": {},
   "outputs": [
    {
     "name": "stdout",
     "output_type": "stream",
     "text": [
      "414.0\n"
     ]
    }
   ],
   "source": [
    "functionList = [120,150,300,500,1000,100,2000]\n",
    "\n",
    "functionList.sort(reverse = False)\n",
    "del functionList[0]\n",
    "del functionList[-1]\n",
    "print(sum(functionList)/len(functionList))"
   ]
  },
  {
   "cell_type": "code",
   "execution_count": 38,
   "metadata": {},
   "outputs": [
    {
     "name": "stdout",
     "output_type": "stream",
     "text": [
      "{'name': 'sec', 'address': 'suwon'}\n"
     ]
    }
   ],
   "source": [
    "dic = {\"name\":\"sec\",\"id\":\"300000\",\"address\":\"suwon\"}\n",
    "del dic[\"id\"]\n",
    "print(dic)"
   ]
  }
 ],
 "metadata": {
  "kernelspec": {
   "display_name": "Python 3",
   "language": "python",
   "name": "python3"
  },
  "language_info": {
   "codemirror_mode": {
    "name": "ipython",
    "version": 3
   },
   "file_extension": ".py",
   "mimetype": "text/x-python",
   "name": "python",
   "nbconvert_exporter": "python",
   "pygments_lexer": "ipython3",
   "version": "3.7.4"
  }
 },
 "nbformat": 4,
 "nbformat_minor": 2
}
